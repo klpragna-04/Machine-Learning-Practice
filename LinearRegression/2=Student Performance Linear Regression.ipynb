{
 "cells": [
  {
   "cell_type": "code",
   "execution_count": 16,
   "id": "439738c8",
   "metadata": {},
   "outputs": [],
   "source": [
    "import pandas as pd\n",
    "import numpy as np\n",
    "import matplotlib.pyplot as plt\n",
    "import seaborn as sns"
   ]
  },
  {
   "cell_type": "code",
   "execution_count": 17,
   "id": "490e8cc1",
   "metadata": {},
   "outputs": [],
   "source": [
    "dfra=pd.read_csv(\"Student_Performance.csv\")"
   ]
  },
  {
   "cell_type": "code",
   "execution_count": 18,
   "id": "983b8161",
   "metadata": {},
   "outputs": [],
   "source": [
    "dfra = dfra.replace({\"Yes\": 1, \"No\": 0})"
   ]
  },
  {
   "cell_type": "code",
   "execution_count": 19,
   "id": "8dcc7c42",
   "metadata": {},
   "outputs": [
    {
     "data": {
      "text/html": [
       "<div>\n",
       "<style scoped>\n",
       "    .dataframe tbody tr th:only-of-type {\n",
       "        vertical-align: middle;\n",
       "    }\n",
       "\n",
       "    .dataframe tbody tr th {\n",
       "        vertical-align: top;\n",
       "    }\n",
       "\n",
       "    .dataframe thead th {\n",
       "        text-align: right;\n",
       "    }\n",
       "</style>\n",
       "<table border=\"1\" class=\"dataframe\">\n",
       "  <thead>\n",
       "    <tr style=\"text-align: right;\">\n",
       "      <th></th>\n",
       "      <th>Hours Studied</th>\n",
       "      <th>Previous Scores</th>\n",
       "      <th>Extracurricular Activities</th>\n",
       "      <th>Sleep Hours</th>\n",
       "      <th>Sample Question Papers Practiced</th>\n",
       "      <th>Performance Index</th>\n",
       "    </tr>\n",
       "  </thead>\n",
       "  <tbody>\n",
       "    <tr>\n",
       "      <th>0</th>\n",
       "      <td>7</td>\n",
       "      <td>99</td>\n",
       "      <td>1</td>\n",
       "      <td>9</td>\n",
       "      <td>1</td>\n",
       "      <td>91.0</td>\n",
       "    </tr>\n",
       "    <tr>\n",
       "      <th>1</th>\n",
       "      <td>4</td>\n",
       "      <td>82</td>\n",
       "      <td>0</td>\n",
       "      <td>4</td>\n",
       "      <td>2</td>\n",
       "      <td>65.0</td>\n",
       "    </tr>\n",
       "    <tr>\n",
       "      <th>2</th>\n",
       "      <td>8</td>\n",
       "      <td>51</td>\n",
       "      <td>1</td>\n",
       "      <td>7</td>\n",
       "      <td>2</td>\n",
       "      <td>45.0</td>\n",
       "    </tr>\n",
       "    <tr>\n",
       "      <th>3</th>\n",
       "      <td>5</td>\n",
       "      <td>52</td>\n",
       "      <td>1</td>\n",
       "      <td>5</td>\n",
       "      <td>2</td>\n",
       "      <td>36.0</td>\n",
       "    </tr>\n",
       "    <tr>\n",
       "      <th>4</th>\n",
       "      <td>7</td>\n",
       "      <td>75</td>\n",
       "      <td>0</td>\n",
       "      <td>8</td>\n",
       "      <td>5</td>\n",
       "      <td>66.0</td>\n",
       "    </tr>\n",
       "  </tbody>\n",
       "</table>\n",
       "</div>"
      ],
      "text/plain": [
       "   Hours Studied  Previous Scores  Extracurricular Activities  Sleep Hours  \\\n",
       "0              7               99                           1            9   \n",
       "1              4               82                           0            4   \n",
       "2              8               51                           1            7   \n",
       "3              5               52                           1            5   \n",
       "4              7               75                           0            8   \n",
       "\n",
       "   Sample Question Papers Practiced  Performance Index  \n",
       "0                                 1               91.0  \n",
       "1                                 2               65.0  \n",
       "2                                 2               45.0  \n",
       "3                                 2               36.0  \n",
       "4                                 5               66.0  "
      ]
     },
     "execution_count": 19,
     "metadata": {},
     "output_type": "execute_result"
    }
   ],
   "source": [
    "dfra.head(5)"
   ]
  },
  {
   "cell_type": "code",
   "execution_count": 20,
   "id": "fb6e713d",
   "metadata": {},
   "outputs": [
    {
     "name": "stdout",
     "output_type": "stream",
     "text": [
      "<class 'pandas.core.frame.DataFrame'>\n",
      "RangeIndex: 10000 entries, 0 to 9999\n",
      "Data columns (total 6 columns):\n",
      " #   Column                            Non-Null Count  Dtype  \n",
      "---  ------                            --------------  -----  \n",
      " 0   Hours Studied                     10000 non-null  int64  \n",
      " 1   Previous Scores                   10000 non-null  int64  \n",
      " 2   Extracurricular Activities        10000 non-null  int64  \n",
      " 3   Sleep Hours                       10000 non-null  int64  \n",
      " 4   Sample Question Papers Practiced  10000 non-null  int64  \n",
      " 5   Performance Index                 10000 non-null  float64\n",
      "dtypes: float64(1), int64(5)\n",
      "memory usage: 468.9 KB\n"
     ]
    }
   ],
   "source": [
    "dfra.info()"
   ]
  },
  {
   "cell_type": "code",
   "execution_count": 21,
   "id": "dba3f78a",
   "metadata": {},
   "outputs": [],
   "source": [
    "X=dfra[['Hours Studied','Previous Scores','Sleep Hours','Sample Question Papers Practiced','Extracurricular Activities']]\n",
    "y=dfra['Performance Index']"
   ]
  },
  {
   "cell_type": "code",
   "execution_count": 22,
   "id": "c1189f5f",
   "metadata": {},
   "outputs": [
    {
     "data": {
      "text/plain": [
       "0       91.0\n",
       "1       65.0\n",
       "2       45.0\n",
       "3       36.0\n",
       "4       66.0\n",
       "        ... \n",
       "9995    23.0\n",
       "9996    58.0\n",
       "9997    74.0\n",
       "9998    95.0\n",
       "9999    64.0\n",
       "Name: Performance Index, Length: 10000, dtype: float64"
      ]
     },
     "execution_count": 22,
     "metadata": {},
     "output_type": "execute_result"
    }
   ],
   "source": [
    "y"
   ]
  },
  {
   "cell_type": "code",
   "execution_count": 97,
   "id": "cb16b6b9",
   "metadata": {},
   "outputs": [],
   "source": [
    "from sklearn.model_selection import train_test_split\n",
    "X_train, X_test, y_train, y_test = train_test_split(\n",
    "    X, y, test_size=0.10,random_state=42)"
   ]
  },
  {
   "cell_type": "code",
   "execution_count": 98,
   "id": "cb811a57",
   "metadata": {},
   "outputs": [
    {
     "data": {
      "text/html": [
       "<div>\n",
       "<style scoped>\n",
       "    .dataframe tbody tr th:only-of-type {\n",
       "        vertical-align: middle;\n",
       "    }\n",
       "\n",
       "    .dataframe tbody tr th {\n",
       "        vertical-align: top;\n",
       "    }\n",
       "\n",
       "    .dataframe thead th {\n",
       "        text-align: right;\n",
       "    }\n",
       "</style>\n",
       "<table border=\"1\" class=\"dataframe\">\n",
       "  <thead>\n",
       "    <tr style=\"text-align: right;\">\n",
       "      <th></th>\n",
       "      <th>Hours Studied</th>\n",
       "      <th>Previous Scores</th>\n",
       "      <th>Sleep Hours</th>\n",
       "      <th>Sample Question Papers Practiced</th>\n",
       "      <th>Extracurricular Activities</th>\n",
       "    </tr>\n",
       "  </thead>\n",
       "  <tbody>\n",
       "    <tr>\n",
       "      <th>4896</th>\n",
       "      <td>1</td>\n",
       "      <td>54</td>\n",
       "      <td>8</td>\n",
       "      <td>5</td>\n",
       "      <td>1</td>\n",
       "    </tr>\n",
       "    <tr>\n",
       "      <th>4782</th>\n",
       "      <td>1</td>\n",
       "      <td>87</td>\n",
       "      <td>7</td>\n",
       "      <td>5</td>\n",
       "      <td>1</td>\n",
       "    </tr>\n",
       "    <tr>\n",
       "      <th>1496</th>\n",
       "      <td>3</td>\n",
       "      <td>84</td>\n",
       "      <td>6</td>\n",
       "      <td>6</td>\n",
       "      <td>0</td>\n",
       "    </tr>\n",
       "    <tr>\n",
       "      <th>1957</th>\n",
       "      <td>1</td>\n",
       "      <td>92</td>\n",
       "      <td>4</td>\n",
       "      <td>6</td>\n",
       "      <td>1</td>\n",
       "    </tr>\n",
       "    <tr>\n",
       "      <th>9171</th>\n",
       "      <td>4</td>\n",
       "      <td>81</td>\n",
       "      <td>7</td>\n",
       "      <td>0</td>\n",
       "      <td>1</td>\n",
       "    </tr>\n",
       "    <tr>\n",
       "      <th>...</th>\n",
       "      <td>...</td>\n",
       "      <td>...</td>\n",
       "      <td>...</td>\n",
       "      <td>...</td>\n",
       "      <td>...</td>\n",
       "    </tr>\n",
       "    <tr>\n",
       "      <th>5734</th>\n",
       "      <td>8</td>\n",
       "      <td>50</td>\n",
       "      <td>6</td>\n",
       "      <td>6</td>\n",
       "      <td>1</td>\n",
       "    </tr>\n",
       "    <tr>\n",
       "      <th>5191</th>\n",
       "      <td>4</td>\n",
       "      <td>68</td>\n",
       "      <td>9</td>\n",
       "      <td>3</td>\n",
       "      <td>0</td>\n",
       "    </tr>\n",
       "    <tr>\n",
       "      <th>5390</th>\n",
       "      <td>9</td>\n",
       "      <td>48</td>\n",
       "      <td>7</td>\n",
       "      <td>6</td>\n",
       "      <td>0</td>\n",
       "    </tr>\n",
       "    <tr>\n",
       "      <th>860</th>\n",
       "      <td>1</td>\n",
       "      <td>47</td>\n",
       "      <td>9</td>\n",
       "      <td>0</td>\n",
       "      <td>0</td>\n",
       "    </tr>\n",
       "    <tr>\n",
       "      <th>7270</th>\n",
       "      <td>2</td>\n",
       "      <td>46</td>\n",
       "      <td>6</td>\n",
       "      <td>6</td>\n",
       "      <td>0</td>\n",
       "    </tr>\n",
       "  </tbody>\n",
       "</table>\n",
       "<p>9000 rows × 5 columns</p>\n",
       "</div>"
      ],
      "text/plain": [
       "      Hours Studied  Previous Scores  Sleep Hours  \\\n",
       "4896              1               54            8   \n",
       "4782              1               87            7   \n",
       "1496              3               84            6   \n",
       "1957              1               92            4   \n",
       "9171              4               81            7   \n",
       "...             ...              ...          ...   \n",
       "5734              8               50            6   \n",
       "5191              4               68            9   \n",
       "5390              9               48            7   \n",
       "860               1               47            9   \n",
       "7270              2               46            6   \n",
       "\n",
       "      Sample Question Papers Practiced  Extracurricular Activities  \n",
       "4896                                 5                           1  \n",
       "4782                                 5                           1  \n",
       "1496                                 6                           0  \n",
       "1957                                 6                           1  \n",
       "9171                                 0                           1  \n",
       "...                                ...                         ...  \n",
       "5734                                 6                           1  \n",
       "5191                                 3                           0  \n",
       "5390                                 6                           0  \n",
       "860                                  0                           0  \n",
       "7270                                 6                           0  \n",
       "\n",
       "[9000 rows x 5 columns]"
      ]
     },
     "execution_count": 98,
     "metadata": {},
     "output_type": "execute_result"
    }
   ],
   "source": [
    "X_train\n"
   ]
  },
  {
   "cell_type": "code",
   "execution_count": 99,
   "id": "ed10ea15",
   "metadata": {},
   "outputs": [],
   "source": [
    "from sklearn.preprocessing import StandardScaler"
   ]
  },
  {
   "cell_type": "code",
   "execution_count": 100,
   "id": "9efab50f",
   "metadata": {},
   "outputs": [],
   "source": [
    "scaler=StandardScaler()"
   ]
  },
  {
   "cell_type": "code",
   "execution_count": 101,
   "id": "981452ac",
   "metadata": {},
   "outputs": [],
   "source": [
    "X_train=scaler.fit_transform(X_train)"
   ]
  },
  {
   "cell_type": "code",
   "execution_count": 102,
   "id": "664b29ec",
   "metadata": {},
   "outputs": [],
   "source": [
    "X_test=scaler.transform(X_test)"
   ]
  },
  {
   "cell_type": "code",
   "execution_count": 103,
   "id": "9dba06c1",
   "metadata": {},
   "outputs": [
    {
     "data": {
      "text/plain": [
       "array([[ 0.0071194 , -0.03066456,  0.85832924, -0.9051256 , -0.98609664],\n",
       "       [-1.15085537, -1.35666484, -1.5011586 ,  1.18845713,  1.01409939],\n",
       "       [ 0.77910258, -0.78014298,  0.26845728,  0.14166576,  1.01409939],\n",
       "       ...,\n",
       "       [-1.15085537, -0.14596893, -0.91128664,  0.83952668,  1.01409939],\n",
       "       [ 0.0071194 , -0.43422986,  1.4482012 , -0.20726469,  1.01409939],\n",
       "       [ 0.0071194 ,  0.48820512, -1.5011586 , -1.25405606,  1.01409939]])"
      ]
     },
     "execution_count": 103,
     "metadata": {},
     "output_type": "execute_result"
    }
   ],
   "source": [
    "X_test"
   ]
  },
  {
   "cell_type": "code",
   "execution_count": 104,
   "id": "c7557691",
   "metadata": {},
   "outputs": [],
   "source": [
    "from sklearn.linear_model import LinearRegression\n",
    "##Cross validation\n",
    "from sklearn.model_selection import cross_val_score"
   ]
  },
  {
   "cell_type": "code",
   "execution_count": 105,
   "id": "f4b5a54e",
   "metadata": {},
   "outputs": [
    {
     "data": {
      "text/plain": [
       "LinearRegression()"
      ]
     },
     "execution_count": 105,
     "metadata": {},
     "output_type": "execute_result"
    }
   ],
   "source": [
    "regression=LinearRegression()\n",
    "regression.fit(X_train,y_train)"
   ]
  },
  {
   "cell_type": "code",
   "execution_count": 106,
   "id": "f8c9e991",
   "metadata": {},
   "outputs": [],
   "source": [
    "mse=cross_val_score(regression,X_train,y_train,scoring='neg_mean_squared_error',cv=10)"
   ]
  },
  {
   "cell_type": "code",
   "execution_count": 107,
   "id": "5a58ad1a",
   "metadata": {},
   "outputs": [
    {
     "data": {
      "text/plain": [
       "-4.164890303666512"
      ]
     },
     "execution_count": 107,
     "metadata": {},
     "output_type": "execute_result"
    }
   ],
   "source": [
    "np.mean(mse)"
   ]
  },
  {
   "cell_type": "code",
   "execution_count": 108,
   "id": "0b7ea093",
   "metadata": {},
   "outputs": [],
   "source": [
    "reg_pred=regression.predict(X_test)"
   ]
  },
  {
   "cell_type": "code",
   "execution_count": 109,
   "id": "0712ee8e",
   "metadata": {},
   "outputs": [
    {
     "data": {
      "text/plain": [
       "array([54.70540057, 22.5849577 , 47.86843352, 31.24255103, 42.98535464,\n",
       "       59.0550821 , 45.88750987, 86.46271564, 37.66388101, 72.036671  ,\n",
       "       63.55406552, 24.87747595, 60.77688687, 43.97282015, 48.96744921,\n",
       "       44.64950839, 58.02932777, 79.00335963, 65.73907061, 46.62889988,\n",
       "       62.45755468, 15.40086994, 38.34099269, 76.80518598, 84.07291426,\n",
       "       31.03663979, 28.59531207, 88.86804129, 51.05977391, 56.28314087,\n",
       "       60.12443163, 33.83268823, 38.61060968, 49.8920263 , 34.67523216,\n",
       "       63.62516003, 49.8788742 , 46.56393003, 76.27188092, 78.79620762,\n",
       "       80.67044168, 76.10434394, 68.20038308, 93.60174499, 70.31291063,\n",
       "       63.85751773, 74.4677516 , 69.53935647, 75.31073606, 42.21013628,\n",
       "       71.35482455, 57.52720395, 72.85068083, 83.3323649 , 73.77887772,\n",
       "       90.13013351, 73.96646842, 87.87528153, 73.86640613, 60.35262714,\n",
       "       37.1624487 , 35.596762  , 15.94761849, 81.90566399, 84.82195424,\n",
       "       36.11941982, 29.77399833, 67.73175647, 37.44397702, 72.15831917,\n",
       "       61.18256822, 91.47230327, 88.28291849, 91.99010051, 70.77150822,\n",
       "       39.49153473, 65.55147991, 43.72423979, 45.72096267, 75.17452944,\n",
       "       64.67195099, 61.43611169, 64.4635349 , 49.93179045, 59.85948635,\n",
       "       36.06454796, 28.16080521, 81.68910551, 66.33791809, 26.89675739,\n",
       "       20.62854822, 23.51824974, 31.20431905, 75.33760596, 96.60494543,\n",
       "       79.75859325, 63.63594954, 87.9174014 , 86.65530918, 60.81541025,\n",
       "       82.41774354, 28.51245536, 36.38834529, 55.18412517, 19.70452038,\n",
       "       72.59533088, 48.87169825, 79.56961951, 74.45403379, 39.08223356,\n",
       "       48.82915494, 22.75994555, 36.91302769, 26.53264666, 26.54539865,\n",
       "       26.23224856, 52.03254894, 25.07962511, 23.57297246, 52.15474635,\n",
       "       37.67452825, 76.17779417, 87.74117278, 49.27668809, 49.33489858,\n",
       "       60.63846679, 53.86535463, 69.63315182, 73.86640613, 56.88003273,\n",
       "       63.87786285, 52.7301946 , 67.27454877, 66.44765493, 21.86196406,\n",
       "       90.61700736, 56.55512044, 37.1100817 , 39.72653955, 15.94526277,\n",
       "       43.33811974, 13.09698961, 39.8082813 , 49.21171824, 59.10591693,\n",
       "       43.11529433, 39.35631102, 65.70042142, 17.93849787, 29.59886821,\n",
       "       42.88891216, 43.9481637 , 76.13748077, 44.53148003, 67.75780281,\n",
       "       19.81371484, 32.62698294, 35.84214599, 49.30342595, 18.35113767,\n",
       "       74.96987542, 33.00745859, 68.45363514, 28.965832  , 42.00660408,\n",
       "       80.29065754, 73.13706972, 16.93327753, 53.08984487, 56.13086071,\n",
       "       48.62576502, 67.27690449, 50.41935582, 59.33661042, 82.31454171,\n",
       "       35.87054805, 42.82227811, 77.50430698, 56.80977887, 54.58013259,\n",
       "       41.32767907, 41.68085115, 57.96366641, 34.81074727, 56.42554113,\n",
       "       48.4355272 , 76.93888775, 46.83758405, 37.98321787, 64.68079176,\n",
       "       65.56519772, 81.46808657, 71.71175871, 91.99010051, 41.62235948,\n",
       "       72.48016089, 32.58221594, 21.55243378, 45.28978422, 81.403259  ,\n",
       "       35.73643931, 64.4395933 , 74.7004007 , 43.07845847, 92.31625356,\n",
       "       39.61513851, 31.86563152, 74.06040604, 35.32895148, 90.18569688,\n",
       "       58.28981946, 27.3186614 , 22.62193245, 31.64627678, 21.64652054,\n",
       "       70.89746772, 13.69221727, 19.85528547, 19.44819775, 45.86230417,\n",
       "       47.06800947, 46.44185842, 78.60847465, 25.62137081, 22.56790125,\n",
       "       47.78724102, 24.72755152, 41.71177453, 58.45039113, 71.23679619,\n",
       "       81.46989305, 61.95361752, 35.62377417, 82.57086434, 80.97856559,\n",
       "       66.48477195, 65.23875326, 18.5413755 , 63.02826817, 36.51828498,\n",
       "       37.78233281, 62.2003914 , 48.05824791, 73.02928849, 70.73481464,\n",
       "       70.88055354, 57.62795775, 45.24780662, 40.44230042, 76.93512567,\n",
       "       40.08814542, 59.91923524, 68.97295431, 76.93777279, 75.69754763,\n",
       "       80.15529156, 65.78314609, 64.3182132 , 55.72322376, 60.36327438,\n",
       "       36.18438966, 55.04513939, 47.17676339, 33.83866376, 14.11481279,\n",
       "       71.20797069, 42.15081083, 23.38302603, 48.57590288, 77.27528793,\n",
       "       20.66886162, 62.49647818, 75.57659097, 40.90758839, 69.60321136,\n",
       "       58.91832623, 57.38411216, 41.39793292, 84.00947658, 42.74220057,\n",
       "       33.17179921, 56.09485865, 52.94229948, 27.20795187, 39.37253368,\n",
       "       69.71503584, 48.32772263, 59.96066359, 55.07200929, 48.80394925,\n",
       "       65.97185175, 70.49374198, 68.37230037, 34.77098312, 37.86310187,\n",
       "       36.72543699, 73.68146256, 77.26630489, 68.95492518, 68.45489923,\n",
       "       35.99261967, 74.32876581, 18.89204273, 50.89307758, 49.83353463,\n",
       "       47.48684291, 24.71494867, 30.64425281, 62.16906104, 78.00907793,\n",
       "       54.96868165, 36.15653684, 19.36896086, 41.5215367 , 47.70228643,\n",
       "       35.76248565, 56.97550252, 83.11261005, 44.31186745, 55.26420272,\n",
       "       87.2228263 , 14.96955946, 58.49446661, 28.35118531, 49.19507214,\n",
       "       26.87531378, 59.90467678, 47.33817571, 72.89210918, 50.49170756,\n",
       "       49.90296494, 83.52176208, 84.10062481, 93.28004554, 36.61458519,\n",
       "       54.67602582, 55.91095673, 55.80260292, 62.99791049, 80.19450647,\n",
       "       74.07231737, 43.64471149, 64.66818891, 60.32296098, 49.11945506,\n",
       "       65.72382064, 57.90934381, 75.99849498, 57.71979749, 44.06857111,\n",
       "       74.24952891, 22.47479742, 37.74130456, 64.30462743, 74.95977743,\n",
       "       45.14940853, 46.0508778 , 54.57184107, 51.29046741, 79.96019316,\n",
       "       57.74822289, 45.50591926, 68.24000496, 63.98814894, 37.88997177,\n",
       "       53.3360695 , 68.57709665, 29.50938418, 59.40408512, 70.57493448,\n",
       "       69.70076879, 35.56974297, 83.58923678, 45.37941051, 76.57101494,\n",
       "       61.51012763, 42.19307297, 84.14470029, 24.62310893, 31.39136051,\n",
       "       53.21275713, 53.94751982, 39.65349629, 39.09169687, 55.65825391,\n",
       "       79.10975783, 72.75492987, 64.13988671, 81.30862986, 55.55130647,\n",
       "       51.88359719, 71.68724454, 59.47016993, 58.63053097, 77.23802863,\n",
       "       77.18315678, 37.76901511, 22.24243972, 41.1147404 , 65.55078839,\n",
       "       70.88055354, 59.67551546, 71.14173675, 27.2243168 , 19.02824935,\n",
       "       65.66094868, 47.78543455, 76.67922648, 70.00060119, 38.47802287,\n",
       "       89.61498339, 58.31447591, 82.67712027, 56.20194836, 35.3685665 ,\n",
       "       42.68121091, 49.96075822, 42.78830063, 31.41892192, 74.58870825,\n",
       "       71.88424172, 36.25102371, 39.4695254 , 32.30137913, 46.95700854,\n",
       "       57.6542784 , 49.10058528, 30.11525908, 53.80922555, 73.63738708,\n",
       "       66.59493223, 60.17679863, 29.41043685, 63.62516003, 41.44668011,\n",
       "       49.35941276, 55.34289037, 35.91045447, 55.65644057, 34.63311229,\n",
       "       56.70392992, 67.7766726 , 86.50163914, 86.31655329, 81.57559973,\n",
       "       46.99732193, 33.86220525, 51.541913  , 38.2274869 , 14.35908182,\n",
       "       55.78101704, 26.58432215, 62.56144803, 42.37363624, 15.61826907,\n",
       "       57.55548021, 40.85202503, 22.80025895, 90.63211506, 61.95543086,\n",
       "       40.68823365, 74.56183835, 81.2924072 , 89.262784  , 85.28612725,\n",
       "       37.3500394 , 93.25023711, 40.13110594, 32.72204238, 87.20081697,\n",
       "       75.44179071, 15.71471155, 80.97027407, 26.96715352, 63.31975221,\n",
       "       62.40268283, 40.50371352, 71.36025084, 66.25491224, 74.45279303,\n",
       "       37.55468655, 36.57662751, 25.12174498, 66.31973982, 55.79361989,\n",
       "       27.46677936, 60.85224611, 44.40997413, 39.71644156, 70.60125513,\n",
       "       55.23649217, 45.06905668, 24.55187214, 38.8139996 , 34.40506592,\n",
       "       34.85286714, 68.47814932, 47.46275217, 52.93303528, 44.53922231,\n",
       "       50.0239216 , 50.74384466, 27.58013601, 26.72052877, 63.90891204,\n",
       "       81.1876732 , 47.28580871, 14.51980263, 86.65530918, 48.71112658,\n",
       "       50.85135782, 71.56294924, 38.16571343, 64.83126544, 72.85430064,\n",
       "       38.14879925, 41.58636428, 50.74064829, 41.7494408 , 29.20494905,\n",
       "       72.26624954, 43.51365684, 64.42210655, 59.79465877, 63.71895538,\n",
       "       71.84531822, 41.91016161, 78.42986698, 43.8790248 , 43.9585531 ,\n",
       "       72.41714666, 63.70287499, 44.31437231, 77.50514763, 20.19654622,\n",
       "       68.53678325, 33.73790996, 48.32648187, 71.5234765 , 29.84509284,\n",
       "       49.69831093, 55.29178747, 52.50736919, 33.68192315, 87.7706898 ,\n",
       "       44.14502885, 85.44920378, 40.45894652, 39.30282907, 29.12264159,\n",
       "       64.00744216, 48.35599889, 74.90888577, 73.15329238, 56.17312286,\n",
       "       51.62491198, 34.73317458, 50.73431238, 82.60853062, 46.48162257,\n",
       "       57.20340662, 68.46805133, 74.57694606, 71.7155208 , 76.70819425,\n",
       "       33.84960241, 44.52731097, 78.33189234, 18.41777172, 40.84066294,\n",
       "       64.87479167, 58.43033742, 76.21505346, 85.24205178, 37.07694486,\n",
       "       40.7532035 , 81.39992036, 38.46333238, 34.44607083, 65.81073084,\n",
       "       54.05559246, 48.42709341, 50.55041046, 35.18746084, 62.14831581,\n",
       "       49.75053565, 63.17192566, 25.7185048 , 76.38439692, 89.83085036,\n",
       "       77.65547217, 65.84908862, 84.76958724, 56.36488261, 25.1723055 ,\n",
       "       68.89009761, 74.37033643, 91.82242125, 50.69009463, 69.59227271,\n",
       "       53.16093938, 35.80140915, 41.09322349, 27.93025399, 71.77853503,\n",
       "       62.96245767, 28.48836463, 36.9029297 , 72.9739932 , 84.07556139,\n",
       "       85.00954494, 59.25792278, 85.82883878, 32.5984386 , 92.67981504,\n",
       "       45.84858637, 94.13534145, 41.8930983 , 59.83692778, 48.80394925,\n",
       "       79.84119211, 78.59071982, 53.48223185, 34.29240078, 77.64301846,\n",
       "       81.41517033, 48.40891514, 84.55218811, 43.95479102, 47.96222888,\n",
       "       36.10166499, 41.64882927, 41.77840858, 56.93239973, 68.75319946,\n",
       "       72.61887237, 33.17068425, 55.83769536, 32.83177922, 72.3636647 ,\n",
       "       52.93192032, 90.75376323, 72.43029875, 73.20496787, 58.56070055,\n",
       "       54.64307785, 86.98175364, 50.85024286, 51.59901477, 57.54523308,\n",
       "       36.22581801, 33.4985015 , 56.06769734, 31.80190243, 50.36448396,\n",
       "       51.86933014, 46.12942318, 47.94724698, 81.14735981, 66.44445856,\n",
       "       74.22070341, 48.02873089, 49.95964327, 49.68863637, 45.92811467,\n",
       "       36.95334109, 46.0928554 , 34.22478381, 52.19855375, 70.02511537,\n",
       "       24.14383507, 55.1400497 , 88.59661096, 87.40101052, 81.49440722,\n",
       "       54.96325537, 67.62159618, 49.17083914, 50.46009265, 59.2933756 ,\n",
       "       48.8437134 , 62.84798606, 49.71341863, 19.54409099, 45.62729935,\n",
       "       25.19862615, 23.94168592, 57.16475742, 47.8808941 , 84.75433727,\n",
       "       39.29203269, 73.32716528, 88.94547171, 73.58599277, 44.69024523,\n",
       "       58.94241697, 85.60977545, 58.48019956, 41.76218592, 71.73807937,\n",
       "       46.64831891, 56.14415508, 91.32294455, 48.85366912, 41.41951881,\n",
       "       74.42716389, 52.60297101, 41.23250068, 62.40199132, 58.36684291,\n",
       "       46.25371847, 81.79619523, 88.67711195, 41.86677765, 74.4811951 ,\n",
       "       57.44767565, 56.86269511, 46.42939785, 76.76041898, 44.65077248,\n",
       "       38.59855608, 58.18022489, 68.4833013 , 23.61273661, 52.68862398,\n",
       "       92.92463331, 46.631547  , 94.25545745, 53.73360847, 54.68130983,\n",
       "       60.22735916, 41.97679566, 64.62661142, 86.50163914, 84.05919646,\n",
       "       33.45471743, 15.56659359, 83.74995758, 17.31640031, 40.55398264,\n",
       "       26.5176881 , 92.44981306, 54.78993171, 49.26673237, 31.85426943,\n",
       "       36.42865869, 26.492191  , 69.04057128, 44.244942  , 32.03121289,\n",
       "       37.64048179, 30.15613819, 46.31659044, 44.06745615, 46.3851801 ,\n",
       "       28.26930129, 40.48749086, 46.87581603, 19.56915441, 72.82240457,\n",
       "       84.79410142, 35.9878849 , 38.53358624, 86.39579018, 65.07498522,\n",
       "       21.97532072, 44.18757216, 38.3397286 , 56.67552785, 76.99111248,\n",
       "       48.1927801 , 22.21708489, 55.00217887, 33.3017389 , 50.66503121,\n",
       "       33.08753614, 60.70412815, 35.86692824, 53.10802313, 72.80980172,\n",
       "       84.33243326, 62.71123019, 43.93070028, 67.76377834, 66.32154629,\n",
       "       17.49403529, 54.02940384, 70.35587115, 33.68387876, 47.12258992,\n",
       "       28.8499705 , 37.12032883, 56.17409554, 87.93141061, 34.78247101,\n",
       "       27.37214335, 34.47254062, 32.81486505, 57.16295095, 81.64752803,\n",
       "       63.67306657, 42.53755342, 62.41890549, 75.561341  , 18.58113965,\n",
       "       52.99981846, 35.08648893, 57.97807573, 64.77792575, 58.92619431,\n",
       "       65.93871492, 46.70264151, 72.56400052, 24.45919175, 57.50268977,\n",
       "       78.3075273 , 75.51538321, 62.14385535, 36.38834529, 54.34128984,\n",
       "       81.81256016, 34.21733294, 70.68147495, 65.56408276, 32.29971493,\n",
       "       31.74787123, 89.4638182 , 55.05982988, 92.36792904, 55.98581332,\n",
       "       76.00225707, 70.62479663, 78.60220771, 20.7205371 , 42.18173421,\n",
       "       37.5303215 , 58.00690124, 79.02425399, 69.01425063, 73.63473995,\n",
       "       57.02939145, 42.11300228, 42.64018267, 61.38681525, 64.68190672,\n",
       "       26.96965838, 37.06183716, 63.1482419 , 53.97592189, 52.48216349,\n",
       "       56.47142308, 74.92941976, 46.97211624, 68.07442358, 72.2841364 ,\n",
       "       57.58388227, 53.32430731, 41.84533403, 32.8291321 , 54.49064856,\n",
       "       52.60297101, 45.37376612, 46.56393003, 51.20717703, 70.53155052,\n",
       "       56.25235975, 52.61488234, 32.24415156, 27.83214731, 76.96144632,\n",
       "       54.76152965, 30.53827805, 74.56141491, 60.82563405, 57.23125944,\n",
       "       35.73281949, 62.27937046, 73.19305653, 48.62673771, 60.32811296,\n",
       "       39.50747621, 48.89885956, 56.94457913, 86.27247781, 40.04768975,\n",
       "       80.62525124, 69.6906708 , 78.07556971, 55.39845374, 76.30968947,\n",
       "       32.69376612, 32.76416225, 38.28778504, 35.35053737, 45.32773503,\n",
       "       33.00369651, 44.7326565 , 61.20541819, 59.87585128, 81.87683849,\n",
       "       75.86243063, 22.74734271, 27.29290646, 81.90635551, 40.59750887,\n",
       "       62.6608188 , 65.41638824, 63.03655969, 89.03166706, 72.13435424,\n",
       "       56.56717404, 63.00222182, 81.97063384, 97.55348745, 27.11958281,\n",
       "       63.82618737, 44.8930859 , 65.09009292, 53.16093938, 57.20967355,\n",
       "       64.57550852, 86.13627118, 67.47612535, 55.86305019, 68.37801806,\n",
       "       41.65509621, 74.73751773, 31.27924462, 37.66568748, 63.77577598,\n",
       "       85.32505075, 38.9233261 , 59.06141801, 57.98636725, 53.4559112 ,\n",
       "       87.10186964, 80.26309612, 50.64420582, 45.09788219, 56.55025987,\n",
       "       92.51644711, 91.39487285, 73.16520371, 43.71594827, 64.53462941,\n",
       "       40.15869068, 42.91411786, 21.21117303, 65.98014327, 71.37173873,\n",
       "       18.25233948, 88.20172598, 74.15851272, 90.00737038, 46.00484671,\n",
       "       67.74519996, 31.72997413, 52.55708906, 41.12483839, 54.51349854,\n",
       "       73.92573158, 43.11822262, 88.0106475 , 31.85342878, 29.2309954 ,\n",
       "       20.46478018, 43.21216024, 41.34209525, 78.6347953 , 84.64793907,\n",
       "       66.67877186, 49.86431575, 53.56857634, 61.4517851 , 58.99213684,\n",
       "       36.50999346, 53.61069621, 41.19231309, 40.72814008, 36.21125956,\n",
       "       37.37734297, 62.98223708, 84.27895131, 26.76250637, 68.67269848,\n",
       "       51.91340562, 25.86563984, 76.41789414, 64.96858702, 37.1490052 ,\n",
       "       25.31282345, 71.74003498, 64.8717211 , 23.33120828, 46.87846316,\n",
       "       30.03141945, 18.06390812, 44.2432778 , 49.03241906, 62.37552153])"
      ]
     },
     "execution_count": 109,
     "metadata": {},
     "output_type": "execute_result"
    }
   ],
   "source": [
    "reg_pred"
   ]
  },
  {
   "cell_type": "code",
   "execution_count": 110,
   "id": "af90f5d4",
   "metadata": {},
   "outputs": [
    {
     "data": {
      "text/plain": [
       "<seaborn.axisgrid.FacetGrid at 0x212dbc46b80>"
      ]
     },
     "execution_count": 110,
     "metadata": {},
     "output_type": "execute_result"
    },
    {
     "data": {
      "image/png": "[encoded data removed]",
      "text/plain": [
       "<Figure size 360x360 with 1 Axes>"
      ]
     },
     "metadata": {
      "needs_background": "light"
     },
     "output_type": "display_data"
    }
   ],
   "source": [
    "sns.displot(reg_pred-y_test,kind='kde',color='red')"
   ]
  },
  {
   "cell_type": "code",
   "execution_count": 111,
   "id": "00d868ac",
   "metadata": {},
   "outputs": [],
   "source": [
    "from sklearn.metrics import r2_score\n"
   ]
  },
  {
   "cell_type": "code",
   "execution_count": 112,
   "id": "1c2215b3",
   "metadata": {},
   "outputs": [],
   "source": [
    "score=r2_score(reg_pred,y_test)"
   ]
  },
  {
   "cell_type": "code",
   "execution_count": 113,
   "id": "1b52b1d4",
   "metadata": {},
   "outputs": [
    {
     "data": {
      "text/plain": [
       "0.9889756002351003"
      ]
     },
     "execution_count": 113,
     "metadata": {},
     "output_type": "execute_result"
    }
   ],
   "source": [
    "score"
   ]
  },
  {
   "cell_type": "code",
   "execution_count": 76,
   "id": "94d94fd1",
   "metadata": {},
   "outputs": [
    {
     "data": {
      "image/png": "[encoded data removed]",
      "text/plain": [
       "<Figure size 576x432 with 1 Axes>"
      ]
     },
     "metadata": {
      "needs_background": "light"
     },
     "output_type": "display_data"
    }
   ],
   "source": [
    "plt.figure(figsize=(8, 6))\n",
    "plt.scatter(y_test, reg_pred, color='blue', alpha=0.4)\n",
    "plt.plot([y_test.min(), y_test.max()], [y_test.min(), y_test.max()],'-y', lw=2.5)\n",
    "\n",
    "# Customize the plot\n",
    "plt.xlabel('Actual Values')\n",
    "plt.ylabel('Predicted Values')\n",
    "plt.title('Actual vs Predicted Values')\n",
    "\n",
    "# Add a text box with R-squared value\n",
    "r2 = regression.score(X_test, y_test)\n",
    "plt.text(0.05, 0.95, f'Rsquare_value = {r2:.4f}', transform=plt.gca().transAxes,\n",
    "         verticalalignment='top')\n",
    "\n",
    "# Improve aesthetics\n",
    "plt.grid(True, linestyle='-', alpha=0.7)\n",
    "plt.tight_layout()\n",
    "\n",
    "# Show the plot\n",
    "plt.show()"
   ]
  },
  {
   "cell_type": "code",
   "execution_count": null,
   "id": "d2bca26f",
   "metadata": {},
   "outputs": [],
   "source": []
  },
  {
   "cell_type": "code",
   "execution_count": null,
   "id": "c7542fc0",
   "metadata": {},
   "outputs": [],
   "source": []
  }
 ],
 "metadata": {
  "kernelspec": {
   "display_name": "Python 3 (ipykernel)",
   "language": "python",
   "name": "python3"
  },
  "language_info": {
   "codemirror_mode": {
    "name": "ipython",
    "version": 3
   },
   "file_extension": ".py",
   "mimetype": "text/x-python",
   "name": "python",
   "nbconvert_exporter": "python",
   "pygments_lexer": "ipython3",
   "version": "3.9.7"
  }
 },
 "nbformat": 4,
 "nbformat_minor": 5
}
